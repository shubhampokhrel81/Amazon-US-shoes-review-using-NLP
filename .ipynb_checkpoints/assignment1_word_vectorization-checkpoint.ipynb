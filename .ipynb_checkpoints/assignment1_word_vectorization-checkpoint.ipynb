{
 "cells": [
  {
   "cell_type": "code",
   "execution_count": 4,
   "id": "bb90c80b",
   "metadata": {},
   "outputs": [],
   "source": [
    "import tensorflow_datasets as tfds"
   ]
  },
  {
   "cell_type": "code",
   "execution_count": 2,
   "id": "00c05377",
   "metadata": {},
   "outputs": [],
   "source": [
    "# help(tfds)\n"
   ]
  },
  {
   "cell_type": "code",
   "execution_count": 21,
   "id": "3f2629cd",
   "metadata": {},
   "outputs": [],
   "source": [
    "df, info = tfds.load('amazon_us_reviews/Shoes_v1_00', split='train[:12000]', with_info=True)\n",
    "# df, info = tfds.load('amazon_us_reviews/Shoes_v1_00', split='train[:1000]', with_info=True,num_parallel_reads=16)\n",
    "\n",
    "# subset_dataset = tfds.Subset(df, range(1000))  # Extract first 1000 examples"
   ]
  },
  {
   "cell_type": "code",
   "execution_count": 22,
   "id": "88b65f15",
   "metadata": {},
   "outputs": [],
   "source": [
    "dfr = tfds.as_dataframe(df)\n"
   ]
  },
  {
   "cell_type": "code",
   "execution_count": 23,
   "id": "12c0f823",
   "metadata": {},
   "outputs": [
    {
     "data": {
      "text/html": [
       "<div>\n",
       "<style scoped>\n",
       "    .dataframe tbody tr th:only-of-type {\n",
       "        vertical-align: middle;\n",
       "    }\n",
       "\n",
       "    .dataframe tbody tr th {\n",
       "        vertical-align: top;\n",
       "    }\n",
       "\n",
       "    .dataframe thead th {\n",
       "        text-align: right;\n",
       "    }\n",
       "</style>\n",
       "<table border=\"1\" class=\"dataframe\">\n",
       "  <thead>\n",
       "    <tr style=\"text-align: right;\">\n",
       "      <th></th>\n",
       "      <th>data/customer_id</th>\n",
       "      <th>data/helpful_votes</th>\n",
       "      <th>data/marketplace</th>\n",
       "      <th>data/product_category</th>\n",
       "      <th>data/product_id</th>\n",
       "      <th>data/product_parent</th>\n",
       "      <th>data/product_title</th>\n",
       "      <th>data/review_body</th>\n",
       "      <th>data/review_date</th>\n",
       "      <th>data/review_headline</th>\n",
       "      <th>data/review_id</th>\n",
       "      <th>data/star_rating</th>\n",
       "      <th>data/total_votes</th>\n",
       "      <th>data/verified_purchase</th>\n",
       "      <th>data/vine</th>\n",
       "    </tr>\n",
       "  </thead>\n",
       "  <tbody>\n",
       "    <tr>\n",
       "      <th>0</th>\n",
       "      <td>b'31517414'</td>\n",
       "      <td>0</td>\n",
       "      <td>b'US'</td>\n",
       "      <td>b'Shoes'</td>\n",
       "      <td>b'B008J4SREA'</td>\n",
       "      <td>b'411790122'</td>\n",
       "      <td>b\"Merrell Women's Sweetpea Sandal\"</td>\n",
       "      <td>b'Very comfortable and look nice with capris a...</td>\n",
       "      <td>b'2014-07-24'</td>\n",
       "      <td>b'Five Stars'</td>\n",
       "      <td>b'RF61A7Z3YIUX2'</td>\n",
       "      <td>5</td>\n",
       "      <td>0</td>\n",
       "      <td>0</td>\n",
       "      <td>1</td>\n",
       "    </tr>\n",
       "    <tr>\n",
       "      <th>1</th>\n",
       "      <td>b'12193208'</td>\n",
       "      <td>0</td>\n",
       "      <td>b'US'</td>\n",
       "      <td>b'Shoes'</td>\n",
       "      <td>b'B00JLOVBDG'</td>\n",
       "      <td>b'98417409'</td>\n",
       "      <td>b'Vera Bradley Hipster Cross-Body Bag'</td>\n",
       "      <td>b'Beautiful color pattern'</td>\n",
       "      <td>b'2015-08-28'</td>\n",
       "      <td>b'Five Stars'</td>\n",
       "      <td>b'R3PRTUAMZTAK5D'</td>\n",
       "      <td>5</td>\n",
       "      <td>0</td>\n",
       "      <td>0</td>\n",
       "      <td>1</td>\n",
       "    </tr>\n",
       "    <tr>\n",
       "      <th>2</th>\n",
       "      <td>b'44251608'</td>\n",
       "      <td>2</td>\n",
       "      <td>b'US'</td>\n",
       "      <td>b'Shoes'</td>\n",
       "      <td>b'B007RF63FC'</td>\n",
       "      <td>b'928002483'</td>\n",
       "      <td>b\"Khombu Women's Spruce Boot\"</td>\n",
       "      <td>b'These boots are stylish, comfortable and can...</td>\n",
       "      <td>b'2013-10-10'</td>\n",
       "      <td>b'Excellent Product'</td>\n",
       "      <td>b'R22YVKLAVI6946'</td>\n",
       "      <td>5</td>\n",
       "      <td>2</td>\n",
       "      <td>0</td>\n",
       "      <td>1</td>\n",
       "    </tr>\n",
       "    <tr>\n",
       "      <th>3</th>\n",
       "      <td>b'31911060'</td>\n",
       "      <td>0</td>\n",
       "      <td>b'US'</td>\n",
       "      <td>b'Shoes'</td>\n",
       "      <td>b'B008GVWJ1S'</td>\n",
       "      <td>b'863644697'</td>\n",
       "      <td>b\"New Balance Men's MX623 Cross-Training Shoe,...</td>\n",
       "      <td>b\"I needed a comfortable pair of shoes that ar...</td>\n",
       "      <td>b'2014-08-27'</td>\n",
       "      <td>b'The most comfortable pair of sneakers I own'</td>\n",
       "      <td>b'R1VSXTHMGBSJUJ'</td>\n",
       "      <td>5</td>\n",
       "      <td>0</td>\n",
       "      <td>0</td>\n",
       "      <td>1</td>\n",
       "    </tr>\n",
       "    <tr>\n",
       "      <th>4</th>\n",
       "      <td>b'27570521'</td>\n",
       "      <td>0</td>\n",
       "      <td>b'US'</td>\n",
       "      <td>b'Shoes'</td>\n",
       "      <td>b'B00BTWKD96'</td>\n",
       "      <td>b'569897119'</td>\n",
       "      <td>b\"Steve Madden Women's Albany Boot\"</td>\n",
       "      <td>b\"I am a solid size 9 across the board, but th...</td>\n",
       "      <td>b'2013-12-01'</td>\n",
       "      <td>b'Classy Boot!'</td>\n",
       "      <td>b'R3GMGX22ISB93Z'</td>\n",
       "      <td>5</td>\n",
       "      <td>0</td>\n",
       "      <td>0</td>\n",
       "      <td>1</td>\n",
       "    </tr>\n",
       "  </tbody>\n",
       "</table>\n",
       "</div>"
      ],
      "text/plain": [
       "  data/customer_id  data/helpful_votes data/marketplace data/product_category  \\\n",
       "0      b'31517414'                   0            b'US'              b'Shoes'   \n",
       "1      b'12193208'                   0            b'US'              b'Shoes'   \n",
       "2      b'44251608'                   2            b'US'              b'Shoes'   \n",
       "3      b'31911060'                   0            b'US'              b'Shoes'   \n",
       "4      b'27570521'                   0            b'US'              b'Shoes'   \n",
       "\n",
       "  data/product_id data/product_parent  \\\n",
       "0   b'B008J4SREA'        b'411790122'   \n",
       "1   b'B00JLOVBDG'         b'98417409'   \n",
       "2   b'B007RF63FC'        b'928002483'   \n",
       "3   b'B008GVWJ1S'        b'863644697'   \n",
       "4   b'B00BTWKD96'        b'569897119'   \n",
       "\n",
       "                                  data/product_title  \\\n",
       "0                 b\"Merrell Women's Sweetpea Sandal\"   \n",
       "1             b'Vera Bradley Hipster Cross-Body Bag'   \n",
       "2                      b\"Khombu Women's Spruce Boot\"   \n",
       "3  b\"New Balance Men's MX623 Cross-Training Shoe,...   \n",
       "4                b\"Steve Madden Women's Albany Boot\"   \n",
       "\n",
       "                                    data/review_body data/review_date  \\\n",
       "0  b'Very comfortable and look nice with capris a...    b'2014-07-24'   \n",
       "1                         b'Beautiful color pattern'    b'2015-08-28'   \n",
       "2  b'These boots are stylish, comfortable and can...    b'2013-10-10'   \n",
       "3  b\"I needed a comfortable pair of shoes that ar...    b'2014-08-27'   \n",
       "4  b\"I am a solid size 9 across the board, but th...    b'2013-12-01'   \n",
       "\n",
       "                             data/review_headline     data/review_id  \\\n",
       "0                                   b'Five Stars'   b'RF61A7Z3YIUX2'   \n",
       "1                                   b'Five Stars'  b'R3PRTUAMZTAK5D'   \n",
       "2                            b'Excellent Product'  b'R22YVKLAVI6946'   \n",
       "3  b'The most comfortable pair of sneakers I own'  b'R1VSXTHMGBSJUJ'   \n",
       "4                                 b'Classy Boot!'  b'R3GMGX22ISB93Z'   \n",
       "\n",
       "   data/star_rating  data/total_votes  data/verified_purchase  data/vine  \n",
       "0                 5                 0                       0          1  \n",
       "1                 5                 0                       0          1  \n",
       "2                 5                 2                       0          1  \n",
       "3                 5                 0                       0          1  \n",
       "4                 5                 0                       0          1  "
      ]
     },
     "execution_count": 23,
     "metadata": {},
     "output_type": "execute_result"
    }
   ],
   "source": [
    "dfr.head(5)"
   ]
  },
  {
   "cell_type": "code",
   "execution_count": 24,
   "id": "79a2ead7",
   "metadata": {},
   "outputs": [
    {
     "data": {
      "text/plain": [
       "(12000, 15)"
      ]
     },
     "execution_count": 24,
     "metadata": {},
     "output_type": "execute_result"
    }
   ],
   "source": [
    "dfr.shape"
   ]
  },
  {
   "cell_type": "code",
   "execution_count": 25,
   "id": "80b2be82",
   "metadata": {},
   "outputs": [],
   "source": [
    "dfr.to_csv(\"shoes_dataset.csv\",index=False)"
   ]
  },
  {
   "cell_type": "code",
   "execution_count": null,
   "id": "f1737568",
   "metadata": {},
   "outputs": [],
   "source": []
  },
  {
   "cell_type": "code",
   "execution_count": null,
   "id": "6ec3866e",
   "metadata": {},
   "outputs": [],
   "source": []
  }
 ],
 "metadata": {
  "kernelspec": {
   "display_name": "Python 3 (ipykernel)",
   "language": "python",
   "name": "python3"
  },
  "language_info": {
   "codemirror_mode": {
    "name": "ipython",
    "version": 3
   },
   "file_extension": ".py",
   "mimetype": "text/x-python",
   "name": "python",
   "nbconvert_exporter": "python",
   "pygments_lexer": "ipython3",
   "version": "3.9.13"
  }
 },
 "nbformat": 4,
 "nbformat_minor": 5
}
